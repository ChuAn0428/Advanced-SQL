{
 "cells": [
  {
   "cell_type": "markdown",
   "metadata": {
    "papermill": {
     "duration": 0.009678,
     "end_time": "2020-10-01T00:24:18.612100",
     "exception": false,
     "start_time": "2020-10-01T00:24:18.602422",
     "status": "completed"
    },
    "tags": []
   },
   "source": [
    "# Introduction\n",
    "\n",
    "So far, you've worked with many types of data, including numeric types (integers, floating point values), strings, and the [DATETIME](https://www.kaggle.com/dansbecker/order-by) type.  In this tutorial, you'll learn how to query **nested and repeated data**.  These are the most complex data types that you can find in BigQuery datasets! \n",
    "\n",
    "# Nested data\n",
    "\n",
    "Consider a hypothetical dataset containing information about pets and their toys.  We could organize this information in two different tables (a `pets` table and a `toys` table).  The `toys` table could contain a \"Pet_ID\" column that could be used to match each toy to the pet that owns it.\n",
    "\n",
    "Another option in BigQuery is to organize all of the information in a single table, similar to the `pets_and_toys` table below.  \n",
    "\n",
    "![nested data](https://i.imgur.com/wxuogYA.png)\n",
    "\n",
    "In this case, all of the information from the `toys` table is collapsed into a single column (the \"Toy\" column in the `pets_and_toys` table).  We refer to the \"Toy\" column in the `pets_and_toys` table as a **nested** column, and say that the \"Name\" and \"Type\" fields are nested inside of it.  \n",
    "\n",
    "Nested columns have type **STRUCT** (or type **RECORD**).  This is reflected in the table schema below.\n",
    "> Recall that we refer to the structure of a table as its **schema**.  If you need to review how to interpret table schema, feel free to check out [this lesson](https://www.kaggle.com/dansbecker/getting-started-with-sql-and-bigquery) from the Intro to SQL micro-course.\n",
    "\n",
    "![nested data](https://i.imgur.com/epXFXdb.png)\n",
    "\n",
    "To query a column with nested data, we need to identify each field in the context of the column that contains it: \n",
    "- `Toy.Name` refers to the \"Name\" field in the \"Toy\" column, and\n",
    "- `Toy.Type` refers to the \"Type\" field in the \"Toy\" column.  \n",
    "\n",
    "![nested data](https://i.imgur.com/eE2Gt62.png)\n",
    "\n",
    "Otherwise, our usual rules remain the same - we need not change anything else about our queries.\n",
    "\n",
    "# Repeated data \n",
    "\n",
    "Now consider the (more realistic!) case where each pet can have multiple toys.  In this case, to collapse this information into a single table, we need to leverage a different datatype.\n",
    "\n",
    "![repeated data](https://i.imgur.com/S93FJTE.png)\n",
    "\n",
    "We say that the \"Toys\" column contains **repeated data**, because it permits more than one value for each row.  This is reflected in the table schema below, where the mode of the \"Toys\" column appears as **'REPEATED'**.\n",
    "\n",
    "![repeated data](https://i.imgur.com/KlrjpDM.png)\n",
    "\n",
    "Each entry in a repeated field is an **ARRAY**, or an ordered list of (zero or more) values with the same datatype.  For instance, the entry in the \"Toys\" column for Moon the Dog is **[Frisbee, Bone, Rope]**, which is an ARRAY with three values.\n",
    "\n",
    "When querying repeated data, we need to put the name of the column containing the repeated data inside an **UNNEST()** function.  \n",
    "\n",
    "![repeated data](https://i.imgur.com/p3fXPxY.png)\n",
    "\n",
    "This essentially flattens the repeated data (which is then appended to the right side of the table) so that we have one element on each row.  For an illustration of this, check out the image below.\n",
    "\n",
    "![repeated data](https://i.imgur.com/8j4XK8f.png)\n",
    "\n",
    "# Nested and repeated data\n",
    "\n",
    "Now, what if pets can have multiple toys, _and_ we'd like to keep track of both the name and type of each toy?  In this case, we can make the \"Toys\" column both **nested** and **repeated**.\n",
    "\n",
    "![repeated data](https://i.imgur.com/psKtza2.png)\n",
    "\n",
    "In the `more_pets_and_toys` table above, \"Name\" and \"Type\" are both fields contained within the \"Toys\" STRUCT, and each entry in both \"Toys.Name\" and \"Toys.Type\" is an ARRAY.\n",
    "\n",
    "![repeated data](https://i.imgur.com/fO5OymI.png)\n",
    "\n",
    "Let's look at a sample query.\n",
    "\n",
    "![repeated data](https://i.imgur.com/DiMCZaO.png)\n",
    "\n",
    "Since the \"Toys\" column is repeated, we flatten it with the **UNNEST()** function.  And, since we give the flattened column an alias of `t`, we can refer to the \"Name\" and \"Type\" fields in the \"Toys\" column as `t.Name` and `t.Type`, respectively.  \n",
    "\n",
    "To reinforce what you've learned, we'll apply these ideas to a real dataset in the section below."
   ]
  },
  {
   "cell_type": "markdown",
   "metadata": {
    "papermill": {
     "duration": 0.008608,
     "end_time": "2020-10-01T00:24:18.629611",
     "exception": false,
     "start_time": "2020-10-01T00:24:18.621003",
     "status": "completed"
    },
    "tags": []
   },
   "source": [
    "# Example\n",
    "\n",
    "We'll work with the [Google Analytics Sample](https://www.kaggle.com/bigquery/google-analytics-sample) dataset.  It contains information tracking the behavior of visitors to the Google Merchandise store, an e-commerce website that sells Google branded items.\n",
    "\n",
    "We begin by printing the first few rows of the `ga_sessions_20170801` table.  (_We have hidden the corresponding code.  To take a peek, click on the \"Code\" button below._)  This table tracks visits to the website on August 1, 2017.  "
   ]
  },
  {
   "cell_type": "code",
   "execution_count": 1,
   "metadata": {
    "_kg_hide-input": true,
    "execution": {
     "iopub.execute_input": "2020-10-01T00:24:18.655660Z",
     "iopub.status.busy": "2020-10-01T00:24:18.654825Z",
     "iopub.status.idle": "2020-10-01T00:24:19.493997Z",
     "shell.execute_reply": "2020-10-01T00:24:19.493187Z"
    },
    "papermill": {
     "duration": 0.856078,
     "end_time": "2020-10-01T00:24:19.494123",
     "exception": false,
     "start_time": "2020-10-01T00:24:18.638045",
     "status": "completed"
    },
    "tags": []
   },
   "outputs": [
    {
     "name": "stdout",
     "output_type": "stream",
     "text": [
      "Using Kaggle's public dataset BigQuery integration.\n"
     ]
    },
    {
     "data": {
      "text/html": [
       "<div>\n",
       "<style scoped>\n",
       "    .dataframe tbody tr th:only-of-type {\n",
       "        vertical-align: middle;\n",
       "    }\n",
       "\n",
       "    .dataframe tbody tr th {\n",
       "        vertical-align: top;\n",
       "    }\n",
       "\n",
       "    .dataframe thead th {\n",
       "        text-align: right;\n",
       "    }\n",
       "</style>\n",
       "<table border=\"1\" class=\"dataframe\">\n",
       "  <thead>\n",
       "    <tr style=\"text-align: right;\">\n",
       "      <th></th>\n",
       "      <th>visitorId</th>\n",
       "      <th>visitNumber</th>\n",
       "      <th>visitId</th>\n",
       "      <th>visitStartTime</th>\n",
       "      <th>date</th>\n",
       "      <th>totals</th>\n",
       "      <th>trafficSource</th>\n",
       "      <th>device</th>\n",
       "      <th>geoNetwork</th>\n",
       "      <th>customDimensions</th>\n",
       "      <th>hits</th>\n",
       "      <th>fullVisitorId</th>\n",
       "      <th>userId</th>\n",
       "      <th>clientId</th>\n",
       "      <th>channelGrouping</th>\n",
       "      <th>socialEngagementType</th>\n",
       "    </tr>\n",
       "  </thead>\n",
       "  <tbody>\n",
       "    <tr>\n",
       "      <th>0</th>\n",
       "      <td>None</td>\n",
       "      <td>1</td>\n",
       "      <td>1501583974</td>\n",
       "      <td>1501583974</td>\n",
       "      <td>20170801</td>\n",
       "      <td>{'visits': 1, 'hits': 1, 'pageviews': 1, 'time...</td>\n",
       "      <td>{'referralPath': None, 'campaign': '(not set)'...</td>\n",
       "      <td>{'browser': 'Chrome', 'browserVersion': 'not a...</td>\n",
       "      <td>{'continent': 'Americas', 'subContinent': 'Car...</td>\n",
       "      <td>[]</td>\n",
       "      <td>[{'hitNumber': 1, 'time': 0, 'hour': 3, 'minut...</td>\n",
       "      <td>2248281639583218707</td>\n",
       "      <td>None</td>\n",
       "      <td>None</td>\n",
       "      <td>Organic Search</td>\n",
       "      <td>Not Socially Engaged</td>\n",
       "    </tr>\n",
       "    <tr>\n",
       "      <th>1</th>\n",
       "      <td>None</td>\n",
       "      <td>1</td>\n",
       "      <td>1501616585</td>\n",
       "      <td>1501616585</td>\n",
       "      <td>20170801</td>\n",
       "      <td>{'visits': 1, 'hits': 1, 'pageviews': 1, 'time...</td>\n",
       "      <td>{'referralPath': None, 'campaign': '(not set)'...</td>\n",
       "      <td>{'browser': 'Chrome', 'browserVersion': 'not a...</td>\n",
       "      <td>{'continent': 'Americas', 'subContinent': 'Nor...</td>\n",
       "      <td>[{'index': 4, 'value': 'North America'}]</td>\n",
       "      <td>[{'hitNumber': 1, 'time': 0, 'hour': 12, 'minu...</td>\n",
       "      <td>8647436381089107732</td>\n",
       "      <td>None</td>\n",
       "      <td>None</td>\n",
       "      <td>Organic Search</td>\n",
       "      <td>Not Socially Engaged</td>\n",
       "    </tr>\n",
       "    <tr>\n",
       "      <th>2</th>\n",
       "      <td>None</td>\n",
       "      <td>1</td>\n",
       "      <td>1501583344</td>\n",
       "      <td>1501583344</td>\n",
       "      <td>20170801</td>\n",
       "      <td>{'visits': 1, 'hits': 1, 'pageviews': 1, 'time...</td>\n",
       "      <td>{'referralPath': None, 'campaign': '(not set)'...</td>\n",
       "      <td>{'browser': 'Chrome', 'browserVersion': 'not a...</td>\n",
       "      <td>{'continent': 'Asia', 'subContinent': 'Souther...</td>\n",
       "      <td>[{'index': 4, 'value': 'APAC'}]</td>\n",
       "      <td>[{'hitNumber': 1, 'time': 0, 'hour': 3, 'minut...</td>\n",
       "      <td>2055839700856389632</td>\n",
       "      <td>None</td>\n",
       "      <td>None</td>\n",
       "      <td>Organic Search</td>\n",
       "      <td>Not Socially Engaged</td>\n",
       "    </tr>\n",
       "    <tr>\n",
       "      <th>3</th>\n",
       "      <td>None</td>\n",
       "      <td>1</td>\n",
       "      <td>1501573386</td>\n",
       "      <td>1501573386</td>\n",
       "      <td>20170801</td>\n",
       "      <td>{'visits': 1, 'hits': 1, 'pageviews': 1, 'time...</td>\n",
       "      <td>{'referralPath': None, 'campaign': '(not set)'...</td>\n",
       "      <td>{'browser': 'Chrome', 'browserVersion': 'not a...</td>\n",
       "      <td>{'continent': 'Europe', 'subContinent': 'Weste...</td>\n",
       "      <td>[{'index': 4, 'value': 'EMEA'}]</td>\n",
       "      <td>[{'hitNumber': 1, 'time': 0, 'hour': 0, 'minut...</td>\n",
       "      <td>0750846065342433129</td>\n",
       "      <td>None</td>\n",
       "      <td>None</td>\n",
       "      <td>Direct</td>\n",
       "      <td>Not Socially Engaged</td>\n",
       "    </tr>\n",
       "    <tr>\n",
       "      <th>4</th>\n",
       "      <td>None</td>\n",
       "      <td>8</td>\n",
       "      <td>1501651467</td>\n",
       "      <td>1501651467</td>\n",
       "      <td>20170801</td>\n",
       "      <td>{'visits': 1, 'hits': 1, 'pageviews': 1, 'time...</td>\n",
       "      <td>{'referralPath': None, 'campaign': '(not set)'...</td>\n",
       "      <td>{'browser': 'Chrome', 'browserVersion': 'not a...</td>\n",
       "      <td>{'continent': 'Americas', 'subContinent': 'Nor...</td>\n",
       "      <td>[{'index': 4, 'value': 'North America'}]</td>\n",
       "      <td>[{'hitNumber': 1, 'time': 0, 'hour': 22, 'minu...</td>\n",
       "      <td>0573427169410921198</td>\n",
       "      <td>None</td>\n",
       "      <td>None</td>\n",
       "      <td>Organic Search</td>\n",
       "      <td>Not Socially Engaged</td>\n",
       "    </tr>\n",
       "  </tbody>\n",
       "</table>\n",
       "</div>"
      ],
      "text/plain": [
       "  visitorId  visitNumber     visitId  visitStartTime      date  \\\n",
       "0      None            1  1501583974      1501583974  20170801   \n",
       "1      None            1  1501616585      1501616585  20170801   \n",
       "2      None            1  1501583344      1501583344  20170801   \n",
       "3      None            1  1501573386      1501573386  20170801   \n",
       "4      None            8  1501651467      1501651467  20170801   \n",
       "\n",
       "                                              totals  \\\n",
       "0  {'visits': 1, 'hits': 1, 'pageviews': 1, 'time...   \n",
       "1  {'visits': 1, 'hits': 1, 'pageviews': 1, 'time...   \n",
       "2  {'visits': 1, 'hits': 1, 'pageviews': 1, 'time...   \n",
       "3  {'visits': 1, 'hits': 1, 'pageviews': 1, 'time...   \n",
       "4  {'visits': 1, 'hits': 1, 'pageviews': 1, 'time...   \n",
       "\n",
       "                                       trafficSource  \\\n",
       "0  {'referralPath': None, 'campaign': '(not set)'...   \n",
       "1  {'referralPath': None, 'campaign': '(not set)'...   \n",
       "2  {'referralPath': None, 'campaign': '(not set)'...   \n",
       "3  {'referralPath': None, 'campaign': '(not set)'...   \n",
       "4  {'referralPath': None, 'campaign': '(not set)'...   \n",
       "\n",
       "                                              device  \\\n",
       "0  {'browser': 'Chrome', 'browserVersion': 'not a...   \n",
       "1  {'browser': 'Chrome', 'browserVersion': 'not a...   \n",
       "2  {'browser': 'Chrome', 'browserVersion': 'not a...   \n",
       "3  {'browser': 'Chrome', 'browserVersion': 'not a...   \n",
       "4  {'browser': 'Chrome', 'browserVersion': 'not a...   \n",
       "\n",
       "                                          geoNetwork  \\\n",
       "0  {'continent': 'Americas', 'subContinent': 'Car...   \n",
       "1  {'continent': 'Americas', 'subContinent': 'Nor...   \n",
       "2  {'continent': 'Asia', 'subContinent': 'Souther...   \n",
       "3  {'continent': 'Europe', 'subContinent': 'Weste...   \n",
       "4  {'continent': 'Americas', 'subContinent': 'Nor...   \n",
       "\n",
       "                           customDimensions  \\\n",
       "0                                        []   \n",
       "1  [{'index': 4, 'value': 'North America'}]   \n",
       "2           [{'index': 4, 'value': 'APAC'}]   \n",
       "3           [{'index': 4, 'value': 'EMEA'}]   \n",
       "4  [{'index': 4, 'value': 'North America'}]   \n",
       "\n",
       "                                                hits        fullVisitorId  \\\n",
       "0  [{'hitNumber': 1, 'time': 0, 'hour': 3, 'minut...  2248281639583218707   \n",
       "1  [{'hitNumber': 1, 'time': 0, 'hour': 12, 'minu...  8647436381089107732   \n",
       "2  [{'hitNumber': 1, 'time': 0, 'hour': 3, 'minut...  2055839700856389632   \n",
       "3  [{'hitNumber': 1, 'time': 0, 'hour': 0, 'minut...  0750846065342433129   \n",
       "4  [{'hitNumber': 1, 'time': 0, 'hour': 22, 'minu...  0573427169410921198   \n",
       "\n",
       "  userId clientId channelGrouping  socialEngagementType  \n",
       "0   None     None  Organic Search  Not Socially Engaged  \n",
       "1   None     None  Organic Search  Not Socially Engaged  \n",
       "2   None     None  Organic Search  Not Socially Engaged  \n",
       "3   None     None          Direct  Not Socially Engaged  \n",
       "4   None     None  Organic Search  Not Socially Engaged  "
      ]
     },
     "execution_count": 1,
     "metadata": {},
     "output_type": "execute_result"
    }
   ],
   "source": [
    "from google.cloud import bigquery\n",
    "\n",
    "# Create a \"Client\" object\n",
    "client = bigquery.Client()\n",
    "\n",
    "# Construct a reference to the \"google_analytics_sample\" dataset\n",
    "dataset_ref = client.dataset(\"google_analytics_sample\", project=\"bigquery-public-data\")\n",
    "\n",
    "# Construct a reference to the \"ga_sessions_20170801\" table\n",
    "table_ref = dataset_ref.table(\"ga_sessions_20170801\")\n",
    "\n",
    "# API request - fetch the table\n",
    "table = client.get_table(table_ref)\n",
    "\n",
    "# Preview the first five lines of the table\n",
    "client.list_rows(table, max_results=5).to_dataframe()"
   ]
  },
  {
   "cell_type": "markdown",
   "metadata": {
    "papermill": {
     "duration": 0.009456,
     "end_time": "2020-10-01T00:24:19.513901",
     "exception": false,
     "start_time": "2020-10-01T00:24:19.504445",
     "status": "completed"
    },
    "tags": []
   },
   "source": [
    "For a description of each field, refer to this [data dictionary](https://support.google.com/analytics/answer/3437719?hl=en).\n",
    "\n",
    "The table has many nested fields, which you can verify by looking at either the [data dictionary](https://support.google.com/analytics/answer/3437719?hl=en) (_hint: search for appearances of 'RECORD' on the page_) or the table preview above.\n",
    "\n",
    "In our first query against this table, we'll work with the \"totals\" and \"device\" columns. "
   ]
  },
  {
   "cell_type": "code",
   "execution_count": 2,
   "metadata": {
    "_kg_hide-input": true,
    "execution": {
     "iopub.execute_input": "2020-10-01T00:24:19.542290Z",
     "iopub.status.busy": "2020-10-01T00:24:19.541139Z",
     "iopub.status.idle": "2020-10-01T00:24:19.546200Z",
     "shell.execute_reply": "2020-10-01T00:24:19.545632Z"
    },
    "papermill": {
     "duration": 0.022707,
     "end_time": "2020-10-01T00:24:19.546328",
     "exception": false,
     "start_time": "2020-10-01T00:24:19.523621",
     "status": "completed"
    },
    "tags": []
   },
   "outputs": [
    {
     "name": "stdout",
     "output_type": "stream",
     "text": [
      "SCHEMA field for the 'totals' column:\n",
      "\n",
      "SchemaField('totals', 'RECORD', 'NULLABLE', None, (SchemaField('visits', 'INTEGER', 'NULLABLE', None, ()), SchemaField('hits', 'INTEGER', 'NULLABLE', None, ()), SchemaField('pageviews', 'INTEGER', 'NULLABLE', None, ()), SchemaField('timeOnSite', 'INTEGER', 'NULLABLE', None, ()), SchemaField('bounces', 'INTEGER', 'NULLABLE', None, ()), SchemaField('transactions', 'INTEGER', 'NULLABLE', None, ()), SchemaField('transactionRevenue', 'INTEGER', 'NULLABLE', None, ()), SchemaField('newVisits', 'INTEGER', 'NULLABLE', None, ()), SchemaField('screenviews', 'INTEGER', 'NULLABLE', None, ()), SchemaField('uniqueScreenviews', 'INTEGER', 'NULLABLE', None, ()), SchemaField('timeOnScreen', 'INTEGER', 'NULLABLE', None, ()), SchemaField('totalTransactionRevenue', 'INTEGER', 'NULLABLE', None, ()), SchemaField('sessionQualityDim', 'INTEGER', 'NULLABLE', None, ())))\n",
      "\n",
      "SCHEMA field for the 'device' column:\n",
      "\n",
      "SchemaField('device', 'RECORD', 'NULLABLE', None, (SchemaField('browser', 'STRING', 'NULLABLE', None, ()), SchemaField('browserVersion', 'STRING', 'NULLABLE', None, ()), SchemaField('browserSize', 'STRING', 'NULLABLE', None, ()), SchemaField('operatingSystem', 'STRING', 'NULLABLE', None, ()), SchemaField('operatingSystemVersion', 'STRING', 'NULLABLE', None, ()), SchemaField('isMobile', 'BOOLEAN', 'NULLABLE', None, ()), SchemaField('mobileDeviceBranding', 'STRING', 'NULLABLE', None, ()), SchemaField('mobileDeviceModel', 'STRING', 'NULLABLE', None, ()), SchemaField('mobileInputSelector', 'STRING', 'NULLABLE', None, ()), SchemaField('mobileDeviceInfo', 'STRING', 'NULLABLE', None, ()), SchemaField('mobileDeviceMarketingName', 'STRING', 'NULLABLE', None, ()), SchemaField('flashVersion', 'STRING', 'NULLABLE', None, ()), SchemaField('javaEnabled', 'BOOLEAN', 'NULLABLE', None, ()), SchemaField('language', 'STRING', 'NULLABLE', None, ()), SchemaField('screenColors', 'STRING', 'NULLABLE', None, ()), SchemaField('screenResolution', 'STRING', 'NULLABLE', None, ()), SchemaField('deviceCategory', 'STRING', 'NULLABLE', None, ())))\n"
     ]
    }
   ],
   "source": [
    "print(\"SCHEMA field for the 'totals' column:\\n\")\n",
    "print(table.schema[5])\n",
    "\n",
    "print(\"\\nSCHEMA field for the 'device' column:\\n\")\n",
    "print(table.schema[7])"
   ]
  },
  {
   "cell_type": "markdown",
   "metadata": {
    "papermill": {
     "duration": 0.009927,
     "end_time": "2020-10-01T00:24:19.566699",
     "exception": false,
     "start_time": "2020-10-01T00:24:19.556772",
     "status": "completed"
    },
    "tags": []
   },
   "source": [
    "We refer to the \"browser\" field (which is nested in the \"device\" column) and the \"transactions\" field (which is nested inside the \"totals\" column) as `device.browser` and `totals.transactions` in the query below:"
   ]
  },
  {
   "cell_type": "code",
   "execution_count": 3,
   "metadata": {
    "execution": {
     "iopub.execute_input": "2020-10-01T00:24:19.594405Z",
     "iopub.status.busy": "2020-10-01T00:24:19.593311Z",
     "iopub.status.idle": "2020-10-01T00:24:21.455965Z",
     "shell.execute_reply": "2020-10-01T00:24:21.455216Z"
    },
    "papermill": {
     "duration": 1.87918,
     "end_time": "2020-10-01T00:24:21.456092",
     "exception": false,
     "start_time": "2020-10-01T00:24:19.576912",
     "status": "completed"
    },
    "tags": []
   },
   "outputs": [
    {
     "data": {
      "text/html": [
       "<div>\n",
       "<style scoped>\n",
       "    .dataframe tbody tr th:only-of-type {\n",
       "        vertical-align: middle;\n",
       "    }\n",
       "\n",
       "    .dataframe tbody tr th {\n",
       "        vertical-align: top;\n",
       "    }\n",
       "\n",
       "    .dataframe thead th {\n",
       "        text-align: right;\n",
       "    }\n",
       "</style>\n",
       "<table border=\"1\" class=\"dataframe\">\n",
       "  <thead>\n",
       "    <tr style=\"text-align: right;\">\n",
       "      <th></th>\n",
       "      <th>device_browser</th>\n",
       "      <th>total_transactions</th>\n",
       "    </tr>\n",
       "  </thead>\n",
       "  <tbody>\n",
       "    <tr>\n",
       "      <th>0</th>\n",
       "      <td>Chrome</td>\n",
       "      <td>41.0</td>\n",
       "    </tr>\n",
       "    <tr>\n",
       "      <th>1</th>\n",
       "      <td>Safari</td>\n",
       "      <td>3.0</td>\n",
       "    </tr>\n",
       "    <tr>\n",
       "      <th>2</th>\n",
       "      <td>Firefox</td>\n",
       "      <td>1.0</td>\n",
       "    </tr>\n",
       "    <tr>\n",
       "      <th>3</th>\n",
       "      <td>Internet Explorer</td>\n",
       "      <td>NaN</td>\n",
       "    </tr>\n",
       "    <tr>\n",
       "      <th>4</th>\n",
       "      <td>UC Browser</td>\n",
       "      <td>NaN</td>\n",
       "    </tr>\n",
       "  </tbody>\n",
       "</table>\n",
       "</div>"
      ],
      "text/plain": [
       "      device_browser  total_transactions\n",
       "0             Chrome                41.0\n",
       "1             Safari                 3.0\n",
       "2            Firefox                 1.0\n",
       "3  Internet Explorer                 NaN\n",
       "4         UC Browser                 NaN"
      ]
     },
     "execution_count": 3,
     "metadata": {},
     "output_type": "execute_result"
    }
   ],
   "source": [
    "# Query to count the number of transactions per browser\n",
    "query = \"\"\"\n",
    "        SELECT device.browser AS device_browser,\n",
    "            SUM(totals.transactions) as total_transactions\n",
    "        FROM `bigquery-public-data.google_analytics_sample.ga_sessions_20170801`\n",
    "        GROUP BY device_browser\n",
    "        ORDER BY total_transactions DESC\n",
    "        \"\"\"\n",
    "\n",
    "# Run the query, and return a pandas DataFrame\n",
    "result = client.query(query).result().to_dataframe()\n",
    "result.head()"
   ]
  },
  {
   "cell_type": "markdown",
   "metadata": {
    "papermill": {
     "duration": 0.010622,
     "end_time": "2020-10-01T00:24:21.479488",
     "exception": false,
     "start_time": "2020-10-01T00:24:21.468866",
     "status": "completed"
    },
    "tags": []
   },
   "source": [
    "By storing the information in the \"device\" and \"totals\" columns as STRUCTs (as opposed to separate tables), we avoid expensive JOINs.  This increases performance and keeps us from having to worry about JOIN keys (and which tables have the exact data we need).\n",
    "\n",
    "Now we'll work with the \"hits\" column as an example of data that is both nested and repeated. Since:\n",
    "- \"hits\" is a STRUCT (contains nested data) and is repeated,\n",
    "- \"hitNumber\", \"page\", and \"type\" are all nested inside the \"hits\" column, and\n",
    "- \"pagePath\" is nested inside the \"page\" field,\n",
    "\n",
    "we can query these fields with the following syntax:"
   ]
  },
  {
   "cell_type": "code",
   "execution_count": 4,
   "metadata": {
    "execution": {
     "iopub.execute_input": "2020-10-01T00:24:21.512317Z",
     "iopub.status.busy": "2020-10-01T00:24:21.511495Z",
     "iopub.status.idle": "2020-10-01T00:24:22.889240Z",
     "shell.execute_reply": "2020-10-01T00:24:22.888553Z"
    },
    "papermill": {
     "duration": 1.397888,
     "end_time": "2020-10-01T00:24:22.889383",
     "exception": false,
     "start_time": "2020-10-01T00:24:21.491495",
     "status": "completed"
    },
    "tags": []
   },
   "outputs": [
    {
     "data": {
      "text/html": [
       "<div>\n",
       "<style scoped>\n",
       "    .dataframe tbody tr th:only-of-type {\n",
       "        vertical-align: middle;\n",
       "    }\n",
       "\n",
       "    .dataframe tbody tr th {\n",
       "        vertical-align: top;\n",
       "    }\n",
       "\n",
       "    .dataframe thead th {\n",
       "        text-align: right;\n",
       "    }\n",
       "</style>\n",
       "<table border=\"1\" class=\"dataframe\">\n",
       "  <thead>\n",
       "    <tr style=\"text-align: right;\">\n",
       "      <th></th>\n",
       "      <th>path</th>\n",
       "      <th>counts</th>\n",
       "    </tr>\n",
       "  </thead>\n",
       "  <tbody>\n",
       "    <tr>\n",
       "      <th>0</th>\n",
       "      <td>/home</td>\n",
       "      <td>1257</td>\n",
       "    </tr>\n",
       "    <tr>\n",
       "      <th>1</th>\n",
       "      <td>/google+redesign/shop+by+brand/youtube</td>\n",
       "      <td>587</td>\n",
       "    </tr>\n",
       "    <tr>\n",
       "      <th>2</th>\n",
       "      <td>/google+redesign/apparel/mens/mens+t+shirts</td>\n",
       "      <td>117</td>\n",
       "    </tr>\n",
       "    <tr>\n",
       "      <th>3</th>\n",
       "      <td>/signin.html</td>\n",
       "      <td>78</td>\n",
       "    </tr>\n",
       "    <tr>\n",
       "      <th>4</th>\n",
       "      <td>/basket.html</td>\n",
       "      <td>35</td>\n",
       "    </tr>\n",
       "  </tbody>\n",
       "</table>\n",
       "</div>"
      ],
      "text/plain": [
       "                                          path  counts\n",
       "0                                        /home    1257\n",
       "1       /google+redesign/shop+by+brand/youtube     587\n",
       "2  /google+redesign/apparel/mens/mens+t+shirts     117\n",
       "3                                 /signin.html      78\n",
       "4                                 /basket.html      35"
      ]
     },
     "execution_count": 4,
     "metadata": {},
     "output_type": "execute_result"
    }
   ],
   "source": [
    "# Query to determine most popular landing point on the website\n",
    "query = \"\"\"\n",
    "        SELECT hits.page.pagePath as path,\n",
    "            COUNT(hits.page.pagePath) as counts\n",
    "        FROM `bigquery-public-data.google_analytics_sample.ga_sessions_20170801`, \n",
    "            UNNEST(hits) as hits\n",
    "        WHERE hits.type=\"PAGE\" and hits.hitNumber=1\n",
    "        GROUP BY path\n",
    "        ORDER BY counts DESC\n",
    "        \"\"\"\n",
    "\n",
    "# Run the query, and return a pandas DataFrame\n",
    "result = client.query(query).result().to_dataframe()\n",
    "result.head()"
   ]
  },
  {
   "cell_type": "markdown",
   "metadata": {
    "papermill": {
     "duration": 0.011448,
     "end_time": "2020-10-01T00:24:22.913525",
     "exception": false,
     "start_time": "2020-10-01T00:24:22.902077",
     "status": "completed"
    },
    "tags": []
   },
   "source": [
    "In this case, most users land on the website through the `\"/home\"` page.\n",
    "\n",
    "# Your turn \n",
    "\n",
    "Use what you've learned to **[query complex datatypes](https://www.kaggle.com/kernels/fork/5045823)** in a real-world dataset."
   ]
  },
  {
   "cell_type": "markdown",
   "metadata": {
    "papermill": {
     "duration": 0.011529,
     "end_time": "2020-10-01T00:24:22.936815",
     "exception": false,
     "start_time": "2020-10-01T00:24:22.925286",
     "status": "completed"
    },
    "tags": []
   },
   "source": [
    "---\n",
    "\n",
    "\n",
    "\n",
    "\n",
    "*Have questions or comments? Visit the [Learn Discussion forum](https://www.kaggle.com/learn-forum/161315) to chat with other Learners.*"
   ]
  }
 ],
 "metadata": {
  "kernelspec": {
   "display_name": "Python 3",
   "language": "python",
   "name": "python3"
  },
  "language_info": {
   "codemirror_mode": {
    "name": "ipython",
    "version": 3
   },
   "file_extension": ".py",
   "mimetype": "text/x-python",
   "name": "python",
   "nbconvert_exporter": "python",
   "pygments_lexer": "ipython3",
   "version": "3.7.6"
  },
  "papermill": {
   "duration": 10.042274,
   "end_time": "2020-10-01T00:24:23.057205",
   "environment_variables": {},
   "exception": null,
   "input_path": "__notebook__.ipynb",
   "output_path": "__notebook__.ipynb",
   "parameters": {},
   "start_time": "2020-10-01T00:24:13.014931",
   "version": "2.1.0"
  }
 },
 "nbformat": 4,
 "nbformat_minor": 1
}
